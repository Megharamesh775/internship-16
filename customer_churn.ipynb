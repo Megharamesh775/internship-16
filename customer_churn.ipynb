{
 "cells": [
  {
   "cell_type": "code",
   "execution_count": 1,
   "metadata": {},
   "outputs": [],
   "source": [
    "import pandas as pd\n",
    "import numpy as np\n",
    "import matplotlib.pyplot as plt\n",
    "import seaborn as sns"
   ]
  },
  {
   "cell_type": "code",
   "execution_count": 2,
   "metadata": {},
   "outputs": [],
   "source": [
    "df=pd.read_excel(\"customer_churn.xlsx\")"
   ]
  },
  {
   "cell_type": "code",
   "execution_count": 3,
   "metadata": {},
   "outputs": [],
   "source": [
    "df1=pd.read_excel(\"customer_retention_dataset.xlsx\")"
   ]
  },
  {
   "cell_type": "code",
   "execution_count": 4,
   "metadata": {},
   "outputs": [
    {
     "data": {
      "text/html": [
       "<div>\n",
       "<style scoped>\n",
       "    .dataframe tbody tr th:only-of-type {\n",
       "        vertical-align: middle;\n",
       "    }\n",
       "\n",
       "    .dataframe tbody tr th {\n",
       "        vertical-align: top;\n",
       "    }\n",
       "\n",
       "    .dataframe thead th {\n",
       "        text-align: right;\n",
       "    }\n",
       "</style>\n",
       "<table border=\"1\" class=\"dataframe\">\n",
       "  <thead>\n",
       "    <tr style=\"text-align: right;\">\n",
       "      <th></th>\n",
       "      <th>1Gender of respondent</th>\n",
       "      <th>2 How old are you?</th>\n",
       "      <th>3 Which city do you shop online from?</th>\n",
       "      <th>4 What is the Pin Code of where you shop online from?</th>\n",
       "      <th>5 Since How Long You are Shopping Online ?</th>\n",
       "      <th>6 How many times you have made an online purchase in the past 1 year?</th>\n",
       "      <th>7 How do you access the internet while shopping on-line?</th>\n",
       "      <th>8 Which device do you use to access the online shopping?</th>\n",
       "      <th>9 What is the screen size of your mobile device?\\t\\t\\t\\t\\t\\t</th>\n",
       "      <th>10 What is the operating system (OS) of your device?\\t\\t\\t\\t</th>\n",
       "      <th>...</th>\n",
       "      <th>Longer time to get logged in (promotion, sales period)</th>\n",
       "      <th>Longer time in displaying graphics and photos (promotion, sales period)</th>\n",
       "      <th>Late declaration of price (promotion, sales period)</th>\n",
       "      <th>Longer page loading time (promotion, sales period)</th>\n",
       "      <th>Limited mode of payment on most products (promotion, sales period)</th>\n",
       "      <th>Longer delivery period</th>\n",
       "      <th>Change in website/Application design</th>\n",
       "      <th>Frequent disruption when moving from one page to another</th>\n",
       "      <th>Website is as efficient as before</th>\n",
       "      <th>Which of the Indian online retailer would you recommend to a friend?</th>\n",
       "    </tr>\n",
       "  </thead>\n",
       "  <tbody>\n",
       "    <tr>\n",
       "      <th>0</th>\n",
       "      <td>0</td>\n",
       "      <td>3</td>\n",
       "      <td>Delhi</td>\n",
       "      <td>110009</td>\n",
       "      <td>5</td>\n",
       "      <td>4</td>\n",
       "      <td>4</td>\n",
       "      <td>3</td>\n",
       "      <td>5</td>\n",
       "      <td>1</td>\n",
       "      <td>...</td>\n",
       "      <td>Amazon.in</td>\n",
       "      <td>Amazon.in</td>\n",
       "      <td>Flipkart.com</td>\n",
       "      <td>Flipkart.com</td>\n",
       "      <td>Amazon.in</td>\n",
       "      <td>Paytm.com</td>\n",
       "      <td>Flipkart.com</td>\n",
       "      <td>Amazon.in</td>\n",
       "      <td>Amazon.in</td>\n",
       "      <td>Flipkart.com</td>\n",
       "    </tr>\n",
       "    <tr>\n",
       "      <th>1</th>\n",
       "      <td>1</td>\n",
       "      <td>2</td>\n",
       "      <td>Delhi</td>\n",
       "      <td>110030</td>\n",
       "      <td>5</td>\n",
       "      <td>5</td>\n",
       "      <td>2</td>\n",
       "      <td>1</td>\n",
       "      <td>2</td>\n",
       "      <td>3</td>\n",
       "      <td>...</td>\n",
       "      <td>Amazon.in, Flipkart.com</td>\n",
       "      <td>Myntra.com</td>\n",
       "      <td>snapdeal.com</td>\n",
       "      <td>Snapdeal.com</td>\n",
       "      <td>Snapdeal.com</td>\n",
       "      <td>Snapdeal.com</td>\n",
       "      <td>Amazon.in</td>\n",
       "      <td>Myntra.com</td>\n",
       "      <td>Amazon.in, Flipkart.com</td>\n",
       "      <td>Amazon.in, Myntra.com</td>\n",
       "    </tr>\n",
       "    <tr>\n",
       "      <th>2</th>\n",
       "      <td>1</td>\n",
       "      <td>2</td>\n",
       "      <td>Greater Noida</td>\n",
       "      <td>201308</td>\n",
       "      <td>4</td>\n",
       "      <td>5</td>\n",
       "      <td>3</td>\n",
       "      <td>1</td>\n",
       "      <td>4</td>\n",
       "      <td>2</td>\n",
       "      <td>...</td>\n",
       "      <td>Myntra.com</td>\n",
       "      <td>Myntra.com</td>\n",
       "      <td>Myntra.com</td>\n",
       "      <td>Myntra.com</td>\n",
       "      <td>Amazon.in</td>\n",
       "      <td>Paytm.com</td>\n",
       "      <td>Paytm.com</td>\n",
       "      <td>Paytm.com</td>\n",
       "      <td>Amazon.in</td>\n",
       "      <td>Amazon.in, Paytm.com, Myntra.com</td>\n",
       "    </tr>\n",
       "    <tr>\n",
       "      <th>3</th>\n",
       "      <td>0</td>\n",
       "      <td>2</td>\n",
       "      <td>Karnal</td>\n",
       "      <td>132001</td>\n",
       "      <td>4</td>\n",
       "      <td>1</td>\n",
       "      <td>3</td>\n",
       "      <td>1</td>\n",
       "      <td>4</td>\n",
       "      <td>3</td>\n",
       "      <td>...</td>\n",
       "      <td>Snapdeal.com</td>\n",
       "      <td>Myntra.com, Snapdeal.com</td>\n",
       "      <td>Myntra.com</td>\n",
       "      <td>Paytm.com</td>\n",
       "      <td>Paytm.com</td>\n",
       "      <td>Paytm.com</td>\n",
       "      <td>Amazon.in, Flipkart.com</td>\n",
       "      <td>Amazon.in, Flipkart.com</td>\n",
       "      <td>Amazon.in, Flipkart.com, Paytm.com</td>\n",
       "      <td>Amazon.in, Flipkart.com</td>\n",
       "    </tr>\n",
       "    <tr>\n",
       "      <th>4</th>\n",
       "      <td>1</td>\n",
       "      <td>2</td>\n",
       "      <td>Bangalore</td>\n",
       "      <td>530068</td>\n",
       "      <td>3</td>\n",
       "      <td>2</td>\n",
       "      <td>2</td>\n",
       "      <td>1</td>\n",
       "      <td>2</td>\n",
       "      <td>3</td>\n",
       "      <td>...</td>\n",
       "      <td>Flipkart.com, Paytm.com</td>\n",
       "      <td>Paytm.com</td>\n",
       "      <td>Paytm.com</td>\n",
       "      <td>Paytm.com</td>\n",
       "      <td>Snapdeal.com</td>\n",
       "      <td>Paytm.com</td>\n",
       "      <td>Amazon.in</td>\n",
       "      <td>Snapdeal.com</td>\n",
       "      <td>Paytm.com</td>\n",
       "      <td>Amazon.in, Myntra.com</td>\n",
       "    </tr>\n",
       "  </tbody>\n",
       "</table>\n",
       "<p>5 rows × 71 columns</p>\n",
       "</div>"
      ],
      "text/plain": [
       "   1Gender of respondent  2 How old are you?   \\\n",
       "0                      0                    3   \n",
       "1                      1                    2   \n",
       "2                      1                    2   \n",
       "3                      0                    2   \n",
       "4                      1                    2   \n",
       "\n",
       "  3 Which city do you shop online from?  \\\n",
       "0                                 Delhi   \n",
       "1                                 Delhi   \n",
       "2                         Greater Noida   \n",
       "3                               Karnal    \n",
       "4                            Bangalore    \n",
       "\n",
       "   4 What is the Pin Code of where you shop online from?  \\\n",
       "0                                             110009       \n",
       "1                                             110030       \n",
       "2                                             201308       \n",
       "3                                             132001       \n",
       "4                                             530068       \n",
       "\n",
       "   5 Since How Long You are Shopping Online ?  \\\n",
       "0                                           5   \n",
       "1                                           5   \n",
       "2                                           4   \n",
       "3                                           4   \n",
       "4                                           3   \n",
       "\n",
       "   6 How many times you have made an online purchase in the past 1 year?  \\\n",
       "0                                                  4                       \n",
       "1                                                  5                       \n",
       "2                                                  5                       \n",
       "3                                                  1                       \n",
       "4                                                  2                       \n",
       "\n",
       "   7 How do you access the internet while shopping on-line?  \\\n",
       "0                                                  4          \n",
       "1                                                  2          \n",
       "2                                                  3          \n",
       "3                                                  3          \n",
       "4                                                  2          \n",
       "\n",
       "   8 Which device do you use to access the online shopping?  \\\n",
       "0                                                  3          \n",
       "1                                                  1          \n",
       "2                                                  1          \n",
       "3                                                  1          \n",
       "4                                                  1          \n",
       "\n",
       "   9 What is the screen size of your mobile device?\\t\\t\\t\\t\\t\\t                                          \\\n",
       "0                                                  5                                                      \n",
       "1                                                  2                                                      \n",
       "2                                                  4                                                      \n",
       "3                                                  4                                                      \n",
       "4                                                  2                                                      \n",
       "\n",
       "   10 What is the operating system (OS) of your device?\\t\\t\\t\\t                                            \\\n",
       "0                                                  1                                                        \n",
       "1                                                  3                                                        \n",
       "2                                                  2                                                        \n",
       "3                                                  3                                                        \n",
       "4                                                  3                                                        \n",
       "\n",
       "   ...  Longer time to get logged in (promotion, sales period)  \\\n",
       "0  ...                                          Amazon.in        \n",
       "1  ...                            Amazon.in, Flipkart.com        \n",
       "2  ...                                         Myntra.com        \n",
       "3  ...                                       Snapdeal.com        \n",
       "4  ...                            Flipkart.com, Paytm.com        \n",
       "\n",
       "   Longer time in displaying graphics and photos (promotion, sales period)  \\\n",
       "0                                          Amazon.in                         \n",
       "1                                         Myntra.com                         \n",
       "2                                         Myntra.com                         \n",
       "3                           Myntra.com, Snapdeal.com                         \n",
       "4                                          Paytm.com                         \n",
       "\n",
       "   Late declaration of price (promotion, sales period)  \\\n",
       "0                                       Flipkart.com     \n",
       "1                                       snapdeal.com     \n",
       "2                                         Myntra.com     \n",
       "3                                         Myntra.com     \n",
       "4                                          Paytm.com     \n",
       "\n",
       "   Longer page loading time (promotion, sales period)  \\\n",
       "0                                       Flipkart.com    \n",
       "1                                       Snapdeal.com    \n",
       "2                                         Myntra.com    \n",
       "3                                          Paytm.com    \n",
       "4                                          Paytm.com    \n",
       "\n",
       "   Limited mode of payment on most products (promotion, sales period)  \\\n",
       "0                                          Amazon.in                    \n",
       "1                                       Snapdeal.com                    \n",
       "2                                          Amazon.in                    \n",
       "3                                          Paytm.com                    \n",
       "4                                       Snapdeal.com                    \n",
       "\n",
       "   Longer delivery period  Change in website/Application design  \\\n",
       "0               Paytm.com                          Flipkart.com   \n",
       "1            Snapdeal.com                             Amazon.in   \n",
       "2               Paytm.com                             Paytm.com   \n",
       "3               Paytm.com               Amazon.in, Flipkart.com   \n",
       "4               Paytm.com                             Amazon.in   \n",
       "\n",
       "   Frequent disruption when moving from one page to another  \\\n",
       "0                                          Amazon.in          \n",
       "1                                         Myntra.com          \n",
       "2                                          Paytm.com          \n",
       "3                            Amazon.in, Flipkart.com          \n",
       "4                                       Snapdeal.com          \n",
       "\n",
       "    Website is as efficient as before  \\\n",
       "0                           Amazon.in   \n",
       "1             Amazon.in, Flipkart.com   \n",
       "2                           Amazon.in   \n",
       "3  Amazon.in, Flipkart.com, Paytm.com   \n",
       "4                           Paytm.com   \n",
       "\n",
       "   Which of the Indian online retailer would you recommend to a friend?  \n",
       "0                                       Flipkart.com                     \n",
       "1                              Amazon.in, Myntra.com                     \n",
       "2                   Amazon.in, Paytm.com, Myntra.com                     \n",
       "3                            Amazon.in, Flipkart.com                     \n",
       "4                              Amazon.in, Myntra.com                     \n",
       "\n",
       "[5 rows x 71 columns]"
      ]
     },
     "execution_count": 4,
     "metadata": {},
     "output_type": "execute_result"
    }
   ],
   "source": [
    "df.head()"
   ]
  },
  {
   "cell_type": "code",
   "execution_count": 5,
   "metadata": {},
   "outputs": [
    {
     "data": {
      "text/html": [
       "<div>\n",
       "<style scoped>\n",
       "    .dataframe tbody tr th:only-of-type {\n",
       "        vertical-align: middle;\n",
       "    }\n",
       "\n",
       "    .dataframe tbody tr th {\n",
       "        vertical-align: top;\n",
       "    }\n",
       "\n",
       "    .dataframe thead th {\n",
       "        text-align: right;\n",
       "    }\n",
       "</style>\n",
       "<table border=\"1\" class=\"dataframe\">\n",
       "  <thead>\n",
       "    <tr style=\"text-align: right;\">\n",
       "      <th></th>\n",
       "      <th>1Gender of respondent</th>\n",
       "      <th>2 How old are you?</th>\n",
       "      <th>3 Which city do you shop online from?</th>\n",
       "      <th>4 What is the Pin Code of where you shop online from?</th>\n",
       "      <th>5 Since How Long You are Shopping Online ?</th>\n",
       "      <th>6 How many times you have made an online purchase in the past 1 year?</th>\n",
       "      <th>7 How do you access the internet while shopping on-line?</th>\n",
       "      <th>8 Which device do you use to access the online shopping?</th>\n",
       "      <th>9 What is the screen size of your mobile device?\\t\\t\\t\\t\\t\\t</th>\n",
       "      <th>10 What is the operating system (OS) of your device?\\t\\t\\t\\t</th>\n",
       "      <th>...</th>\n",
       "      <th>Longer time to get logged in (promotion, sales period)</th>\n",
       "      <th>Longer time in displaying graphics and photos (promotion, sales period)</th>\n",
       "      <th>Late declaration of price (promotion, sales period)</th>\n",
       "      <th>Longer page loading time (promotion, sales period)</th>\n",
       "      <th>Limited mode of payment on most products (promotion, sales period)</th>\n",
       "      <th>Longer delivery period</th>\n",
       "      <th>Change in website/Application design</th>\n",
       "      <th>Frequent disruption when moving from one page to another</th>\n",
       "      <th>Website is as efficient as before</th>\n",
       "      <th>Which of the Indian online retailer would you recommend to a friend?</th>\n",
       "    </tr>\n",
       "  </thead>\n",
       "  <tbody>\n",
       "    <tr>\n",
       "      <th>0</th>\n",
       "      <td>Male</td>\n",
       "      <td>31-40 years</td>\n",
       "      <td>Delhi</td>\n",
       "      <td>110009</td>\n",
       "      <td>Above 4 years</td>\n",
       "      <td>31-40 times</td>\n",
       "      <td>Dial-up</td>\n",
       "      <td>Desktop</td>\n",
       "      <td>Others</td>\n",
       "      <td>Window/windows Mobile</td>\n",
       "      <td>...</td>\n",
       "      <td>Amazon.in</td>\n",
       "      <td>Amazon.in</td>\n",
       "      <td>Flipkart.com</td>\n",
       "      <td>Flipkart.com</td>\n",
       "      <td>Amazon.in</td>\n",
       "      <td>Paytm.com</td>\n",
       "      <td>Flipkart.com</td>\n",
       "      <td>Amazon.in</td>\n",
       "      <td>Amazon.in</td>\n",
       "      <td>Flipkart.com</td>\n",
       "    </tr>\n",
       "    <tr>\n",
       "      <th>1</th>\n",
       "      <td>Female</td>\n",
       "      <td>21-30 years</td>\n",
       "      <td>Delhi</td>\n",
       "      <td>110030</td>\n",
       "      <td>Above 4 years</td>\n",
       "      <td>41 times and above</td>\n",
       "      <td>Wi-Fi</td>\n",
       "      <td>Smartphone</td>\n",
       "      <td>4.7 inches</td>\n",
       "      <td>IOS/Mac</td>\n",
       "      <td>...</td>\n",
       "      <td>Amazon.in, Flipkart.com</td>\n",
       "      <td>Myntra.com</td>\n",
       "      <td>snapdeal.com</td>\n",
       "      <td>Snapdeal.com</td>\n",
       "      <td>Snapdeal.com</td>\n",
       "      <td>Snapdeal.com</td>\n",
       "      <td>Amazon.in</td>\n",
       "      <td>Myntra.com</td>\n",
       "      <td>Amazon.in, Flipkart.com</td>\n",
       "      <td>Amazon.in, Myntra.com</td>\n",
       "    </tr>\n",
       "    <tr>\n",
       "      <th>2</th>\n",
       "      <td>Female</td>\n",
       "      <td>21-30 years</td>\n",
       "      <td>Greater Noida</td>\n",
       "      <td>201308</td>\n",
       "      <td>3-4 years</td>\n",
       "      <td>41 times and above</td>\n",
       "      <td>Mobile Internet</td>\n",
       "      <td>Smartphone</td>\n",
       "      <td>5.5 inches</td>\n",
       "      <td>Android</td>\n",
       "      <td>...</td>\n",
       "      <td>Myntra.com</td>\n",
       "      <td>Myntra.com</td>\n",
       "      <td>Myntra.com</td>\n",
       "      <td>Myntra.com</td>\n",
       "      <td>Amazon.in</td>\n",
       "      <td>Paytm.com</td>\n",
       "      <td>Paytm.com</td>\n",
       "      <td>Paytm.com</td>\n",
       "      <td>Amazon.in</td>\n",
       "      <td>Amazon.in, Paytm.com, Myntra.com</td>\n",
       "    </tr>\n",
       "    <tr>\n",
       "      <th>3</th>\n",
       "      <td>Male</td>\n",
       "      <td>21-30 years</td>\n",
       "      <td>Karnal</td>\n",
       "      <td>132001</td>\n",
       "      <td>3-4 years</td>\n",
       "      <td>Less than 10 times</td>\n",
       "      <td>Mobile Internet</td>\n",
       "      <td>Smartphone</td>\n",
       "      <td>5.5 inches</td>\n",
       "      <td>IOS/Mac</td>\n",
       "      <td>...</td>\n",
       "      <td>Snapdeal.com</td>\n",
       "      <td>Myntra.com, Snapdeal.com</td>\n",
       "      <td>Myntra.com</td>\n",
       "      <td>Paytm.com</td>\n",
       "      <td>Paytm.com</td>\n",
       "      <td>Paytm.com</td>\n",
       "      <td>Amazon.in, Flipkart.com</td>\n",
       "      <td>Amazon.in, Flipkart.com</td>\n",
       "      <td>Amazon.in, Flipkart.com, Paytm.com</td>\n",
       "      <td>Amazon.in, Flipkart.com</td>\n",
       "    </tr>\n",
       "    <tr>\n",
       "      <th>4</th>\n",
       "      <td>Female</td>\n",
       "      <td>21-30 years</td>\n",
       "      <td>Bangalore</td>\n",
       "      <td>530068</td>\n",
       "      <td>2-3 years</td>\n",
       "      <td>11-20 times</td>\n",
       "      <td>Wi-Fi</td>\n",
       "      <td>Smartphone</td>\n",
       "      <td>4.7 inches</td>\n",
       "      <td>IOS/Mac</td>\n",
       "      <td>...</td>\n",
       "      <td>Flipkart.com, Paytm.com</td>\n",
       "      <td>Paytm.com</td>\n",
       "      <td>Paytm.com</td>\n",
       "      <td>Paytm.com</td>\n",
       "      <td>Snapdeal.com</td>\n",
       "      <td>Paytm.com</td>\n",
       "      <td>Amazon.in</td>\n",
       "      <td>Snapdeal.com</td>\n",
       "      <td>Paytm.com</td>\n",
       "      <td>Amazon.in, Myntra.com</td>\n",
       "    </tr>\n",
       "  </tbody>\n",
       "</table>\n",
       "<p>5 rows × 71 columns</p>\n",
       "</div>"
      ],
      "text/plain": [
       "  1Gender of respondent 2 How old are you?   \\\n",
       "0                  Male         31-40 years   \n",
       "1                Female         21-30 years   \n",
       "2                Female         21-30 years   \n",
       "3                  Male         21-30 years   \n",
       "4                Female         21-30 years   \n",
       "\n",
       "  3 Which city do you shop online from?  \\\n",
       "0                                 Delhi   \n",
       "1                                 Delhi   \n",
       "2                         Greater Noida   \n",
       "3                               Karnal    \n",
       "4                            Bangalore    \n",
       "\n",
       "   4 What is the Pin Code of where you shop online from?  \\\n",
       "0                                             110009       \n",
       "1                                             110030       \n",
       "2                                             201308       \n",
       "3                                             132001       \n",
       "4                                             530068       \n",
       "\n",
       "  5 Since How Long You are Shopping Online ?  \\\n",
       "0                              Above 4 years   \n",
       "1                              Above 4 years   \n",
       "2                                  3-4 years   \n",
       "3                                  3-4 years   \n",
       "4                                  2-3 years   \n",
       "\n",
       "  6 How many times you have made an online purchase in the past 1 year?  \\\n",
       "0                                        31-40 times                      \n",
       "1                                 41 times and above                      \n",
       "2                                 41 times and above                      \n",
       "3                                 Less than 10 times                      \n",
       "4                                        11-20 times                      \n",
       "\n",
       "  7 How do you access the internet while shopping on-line?  \\\n",
       "0                                            Dial-up         \n",
       "1                                              Wi-Fi         \n",
       "2                                    Mobile Internet         \n",
       "3                                    Mobile Internet         \n",
       "4                                              Wi-Fi         \n",
       "\n",
       "  8 Which device do you use to access the online shopping?  \\\n",
       "0                                            Desktop         \n",
       "1                                         Smartphone         \n",
       "2                                         Smartphone         \n",
       "3                                         Smartphone         \n",
       "4                                         Smartphone         \n",
       "\n",
       "  9 What is the screen size of your mobile device?\\t\\t\\t\\t\\t\\t                                          \\\n",
       "0                                             Others                                                     \n",
       "1                                         4.7 inches                                                     \n",
       "2                                         5.5 inches                                                     \n",
       "3                                         5.5 inches                                                     \n",
       "4                                         4.7 inches                                                     \n",
       "\n",
       "  10 What is the operating system (OS) of your device?\\t\\t\\t\\t                                            \\\n",
       "0                              Window/windows Mobile                                                       \n",
       "1                                            IOS/Mac                                                       \n",
       "2                                            Android                                                       \n",
       "3                                            IOS/Mac                                                       \n",
       "4                                            IOS/Mac                                                       \n",
       "\n",
       "   ... Longer time to get logged in (promotion, sales period)  \\\n",
       "0  ...                                          Amazon.in       \n",
       "1  ...                            Amazon.in, Flipkart.com       \n",
       "2  ...                                         Myntra.com       \n",
       "3  ...                                       Snapdeal.com       \n",
       "4  ...                            Flipkart.com, Paytm.com       \n",
       "\n",
       "  Longer time in displaying graphics and photos (promotion, sales period)  \\\n",
       "0                                          Amazon.in                        \n",
       "1                                         Myntra.com                        \n",
       "2                                         Myntra.com                        \n",
       "3                           Myntra.com, Snapdeal.com                        \n",
       "4                                          Paytm.com                        \n",
       "\n",
       "  Late declaration of price (promotion, sales period)  \\\n",
       "0                                       Flipkart.com    \n",
       "1                                       snapdeal.com    \n",
       "2                                         Myntra.com    \n",
       "3                                         Myntra.com    \n",
       "4                                          Paytm.com    \n",
       "\n",
       "  Longer page loading time (promotion, sales period)  \\\n",
       "0                                       Flipkart.com   \n",
       "1                                       Snapdeal.com   \n",
       "2                                         Myntra.com   \n",
       "3                                          Paytm.com   \n",
       "4                                          Paytm.com   \n",
       "\n",
       "  Limited mode of payment on most products (promotion, sales period)  \\\n",
       "0                                          Amazon.in                   \n",
       "1                                       Snapdeal.com                   \n",
       "2                                          Amazon.in                   \n",
       "3                                          Paytm.com                   \n",
       "4                                       Snapdeal.com                   \n",
       "\n",
       "  Longer delivery period Change in website/Application design  \\\n",
       "0              Paytm.com                         Flipkart.com   \n",
       "1           Snapdeal.com                            Amazon.in   \n",
       "2              Paytm.com                            Paytm.com   \n",
       "3              Paytm.com              Amazon.in, Flipkart.com   \n",
       "4              Paytm.com                            Amazon.in   \n",
       "\n",
       "  Frequent disruption when moving from one page to another  \\\n",
       "0                                          Amazon.in         \n",
       "1                                         Myntra.com         \n",
       "2                                          Paytm.com         \n",
       "3                            Amazon.in, Flipkart.com         \n",
       "4                                       Snapdeal.com         \n",
       "\n",
       "    Website is as efficient as before  \\\n",
       "0                           Amazon.in   \n",
       "1             Amazon.in, Flipkart.com   \n",
       "2                           Amazon.in   \n",
       "3  Amazon.in, Flipkart.com, Paytm.com   \n",
       "4                           Paytm.com   \n",
       "\n",
       "  Which of the Indian online retailer would you recommend to a friend?  \n",
       "0                                       Flipkart.com                    \n",
       "1                              Amazon.in, Myntra.com                    \n",
       "2                   Amazon.in, Paytm.com, Myntra.com                    \n",
       "3                            Amazon.in, Flipkart.com                    \n",
       "4                              Amazon.in, Myntra.com                    \n",
       "\n",
       "[5 rows x 71 columns]"
      ]
     },
     "execution_count": 5,
     "metadata": {},
     "output_type": "execute_result"
    }
   ],
   "source": [
    "df1.head()"
   ]
  },
  {
   "cell_type": "code",
   "execution_count": 6,
   "metadata": {},
   "outputs": [
    {
     "data": {
      "text/plain": [
       "Index(['1Gender of respondent', '2 How old are you? ',\n",
       "       '3 Which city do you shop online from?',\n",
       "       '4 What is the Pin Code of where you shop online from?',\n",
       "       '5 Since How Long You are Shopping Online ?',\n",
       "       '6 How many times you have made an online purchase in the past 1 year?',\n",
       "       '7 How do you access the internet while shopping on-line?',\n",
       "       '8 Which device do you use to access the online shopping?',\n",
       "       '9 What is the screen size of your mobile device?\\t\\t\\t\\t\\t\\t                                        ',\n",
       "       '10 What is the operating system (OS) of your device?\\t\\t\\t\\t                                          ',\n",
       "       '11 What browser do you run on your device to access the website?\\t\\t\\t                                                          ',\n",
       "       '12 Which channel did you follow to arrive at your favorite online store for the first time?                                                                   ',\n",
       "       '13 After first visit, how do you reach the online retail store?\\t\\t\\t\\t                                                   ',\n",
       "       '14 How much time do you explore the e- retail store before making a purchase decision?                                                                   ',\n",
       "       '15 What is your preferred payment Option?\\t\\t\\t\\t\\t                                                                                                                               ',\n",
       "       '16 How frequently do you abandon (selecting an items and leaving without making payment) your shopping cart?\\t\\t\\t\\t\\t\\t\\t                                                   ',\n",
       "       '17 Why did you abandon the “Bag”, “Shopping Cart”?\\t\\t\\t\\t\\t                                                                                                                                                       ',\n",
       "       '18 The content on the website must be easy to read and understand',\n",
       "       '19 Information on similar product to the one highlighted  is important for product comparison',\n",
       "       '20 Complete information on listed seller and product being offered is important for purchase decision.',\n",
       "       '21 All relevant information on listed products must be stated clearly',\n",
       "       '22 Ease of navigation in website', '23 Loading and processing speed',\n",
       "       '24 User friendly Interface of the website',\n",
       "       '25 Convenient Payment methods',\n",
       "       '26 Trust that the online retail store will fulfill its part of the transaction at the stipulated time',\n",
       "       '27 Empathy (readiness to assist with queries) towards the customers',\n",
       "       '28 Being able to guarantee the privacy of the customer',\n",
       "       '29 Responsiveness, availability of several communication channels (email, online rep, twitter, phone etc.)',\n",
       "       '30 Online shopping gives monetary benefit and discounts',\n",
       "       '31 Enjoyment is derived from shopping online',\n",
       "       '32 Shopping online is convenient and flexible',\n",
       "       '33 Return and replacement policy of the e-tailer is important for purchase decision',\n",
       "       '34 Gaining access to loyalty programs is a benefit of shopping online',\n",
       "       '35 Displaying quality Information on the website improves satisfaction of customers',\n",
       "       '36 User derive satisfaction while shopping on a good quality website or application',\n",
       "       '37 Net Benefit derived from shopping online can lead to users satisfaction',\n",
       "       '38 User satisfaction cannot exist without trust',\n",
       "       '39 Offering a wide variety of listed product in several category',\n",
       "       '40 Provision of complete and relevant product information',\n",
       "       '41 Monetary savings',\n",
       "       '42 The Convenience of patronizing the online retailer',\n",
       "       '43 Shopping on the website gives you the sense of adventure',\n",
       "       '44 Shopping on your preferred e-tailer enhances your social status',\n",
       "       '45 You feel gratification shopping on your favorite e-tailer',\n",
       "       '46 Shopping on the website helps you fulfill certain roles',\n",
       "       '47 Getting value for money spent',\n",
       "       'From the following, tick any (or all) of the online retailers you have shopped from;                                                                           ',\n",
       "       'Easy to use website or application',\n",
       "       'Visual appealing web-page layout', 'Wild variety of product on offer',\n",
       "       'Complete, relevant description information of products',\n",
       "       'Fast loading website speed of website and application',\n",
       "       'Reliability of the website or application',\n",
       "       'Quickness to complete purchase',\n",
       "       'Availability of several payment options', 'Speedy order delivery ',\n",
       "       'Privacy of customers’ information',\n",
       "       'Security of customer financial information',\n",
       "       'Perceived Trustworthiness',\n",
       "       'Presence of online assistance through multi-channel',\n",
       "       'Longer time to get logged in (promotion, sales period)',\n",
       "       'Longer time in displaying graphics and photos (promotion, sales period)',\n",
       "       'Late declaration of price (promotion, sales period)',\n",
       "       'Longer page loading time (promotion, sales period)',\n",
       "       'Limited mode of payment on most products (promotion, sales period)',\n",
       "       'Longer delivery period', 'Change in website/Application design',\n",
       "       'Frequent disruption when moving from one page to another',\n",
       "       'Website is as efficient as before',\n",
       "       'Which of the Indian online retailer would you recommend to a friend?'],\n",
       "      dtype='object')"
      ]
     },
     "execution_count": 6,
     "metadata": {},
     "output_type": "execute_result"
    }
   ],
   "source": [
    "df1.columns"
   ]
  },
  {
   "cell_type": "code",
   "execution_count": 7,
   "metadata": {},
   "outputs": [],
   "source": [
    "df2=df1.rename({'1Gender of respondent' : 'Gender','2 How old are you? ' : 'Age','3 Which city do you shop online from?': 'City',\n",
    "                '4 What is the Pin Code of where you shop online from?' : 'Pin code','5 Since How Long You are Shopping Online ?': 'Since_shop_on',\n",
    "                '6 How many times you have made an online purchase in the past 1 year?': 'online_pur_1yr',\n",
    "                '7 How do you access the internet while shopping on-line?' : 'internet_access',\n",
    "                '8 Which device do you use to access the online shopping?': 'Device',\n",
    "                '9 What is the screen size of your mobile device?\\t\\t\\t\\t\\t\\t                                        ': 'Screen_size',\n",
    "                '10 What is the operating system (OS) of your device?\\t\\t\\t\\t                                          ':'OS',\n",
    "                '11 What browser do you run on your device to access the website?\\t\\t\\t                                                          ': 'Browser',\n",
    "                '12 Which channel did you follow to arrive at your favorite online store for the first time?                                                                   ': 'Chnl_to_website',\n",
    "                 '13 After first visit, how do you reach the online retail store?\\t\\t\\t\\t                                                   ':'reach_store',\n",
    "                '14 How much time do you explore the e- retail store before making a purchase decision?                                                                   ':'time_spent_bfore_deci',\n",
    "                '15 What is your preferred payment Option?\\t\\t\\t\\t\\t                                                                                                                               ': 'Payment_opt',\n",
    "                '16 How frequently do you abandon (selecting an items and leaving without making payment) your shopping cart?\\t\\t\\t\\t\\t\\t\\t                                                   ': 'leave_witout_payin',\n",
    "                '17 Why did you abandon the “Bag”, “Shopping Cart”?\\t\\t\\t\\t\\t                                                                                                                                                       ':'abondon_reason',\n",
    "                '18 The content on the website must be easy to read and understand': 'cont_easy_toread',\n",
    "                '19 Information on similar product to the one highlighted  is important for product comparison': 'Info_simi_prod',\n",
    "                '20 Complete information on listed seller and product being offered is important for purchase decision.': 'Com_seller_info',\n",
    "                '21 All relevant information on listed products must be stated clearly':'relevant_prod_info',\n",
    "                '22 Ease of navigation in website':'ease_nav',\n",
    "                '23 Loading and processing speed': 'proc_speed',\n",
    "                '24 User friendly Interface of the website':'Usr_frnd_interface',\n",
    "                '25 Convenient Payment methods': 'payin_method',\n",
    "                '26 Trust that the online retail store will fulfill its part of the transaction at the stipulated time':'Trust_on_transac',\n",
    "                '27 Empathy (readiness to assist with queries) towards the customers': 'empathy_assist_queries',\n",
    "                '28 Being able to guarantee the privacy of the customer': 'Guar_cust_privacy',\n",
    "                '29 Responsiveness, availability of several communication channels (email, online rep, twitter, phone etc.)':'Response_sev_com',\n",
    "                '30 Online shopping gives monetary benefit and discounts':'ben_dis_shpon',\n",
    "                '31 Enjoyment is derived from shopping online': 'Enjy_shop',\n",
    "                '32 Shopping online is convenient and flexible':'Conv_flexi',\n",
    "                '33 Return and replacement policy of the e-tailer is important for purchase decision': 'replace_policy_imp',\n",
    "                '34 Gaining access to loyalty programs is a benefit of shopping online': 'gain_acc_loyal_prog',\n",
    "                '35 Displaying quality Information on the website improves satisfaction of customers':'display_qual_info_sat',\n",
    "                '36 User derive satisfaction while shopping on a good quality website or application':'Usr_driv_sat_app',\n",
    "                '37 Net Benefit derived from shopping online can lead to users satisfaction':'Net_benf_on_usrsat',\n",
    "                '38 User satisfaction cannot exist without trust' : 'Usr_sat_ntexst_trst',\n",
    "                '39 Offering a wide variety of listed product in several category':'Off_widvar_prod',\n",
    "                '40 Provision of complete and relevant product information':'Prov_prod_info',\n",
    "                '41 Monetary savings': 'Money_savings',\n",
    "                '42 The Convenience of patronizing the online retailer':'con_pat_retlr',\n",
    "                '43 Shopping on the website gives you the sense of adventure':'sense_adven_shopon',\n",
    "                '44 Shopping on your preferred e-tailer enhances your social status':'enhSoc_shop_estore',\n",
    "                '45 You feel gratification shopping on your favorite e-tailer': 'gratif_shop_etailor',\n",
    "                '46 Shopping on the website helps you fulfill certain roles':'fullfill_roles',\n",
    "                '47 Getting value for money spent':'worth_of_money',\n",
    "                'From the following, tick any (or all) of the online retailers you have shopped from;                                                                           ':'onlin_reatl_shp_frm',\n",
    "                'Easy to use website or application':'easy_use_app',\n",
    "                'Visual appealing web-page layout':'visual_web_layout',\n",
    "                'Wild variety of product on offer':'variety_prod_off',\n",
    "                'Complete, relevant description information of products':'desc_info_prods',\n",
    "                'Fast loading website speed of website and application':'fast_loading',\n",
    "                'Reliability of the website or application':'reliab_website',\n",
    "                'Quickness to complete purchase':'Quick_comp',\n",
    "                'Availability of several payment options':'Avail_pay_opt',\n",
    "                'Speedy order delivery ':'speed_odr_del',\n",
    "                'Privacy of customers’ information': 'privacy_cust_info',\n",
    "                'Security of customer financial information':'security_cust_fin_info',\n",
    "                'Perceived Trustworthiness':'perceived_trust',\n",
    "                'Presence of online assistance through multi-channel':'presnce_onlin_assist',\n",
    "                'Longer time to get logged in (promotion, sales period)':'longer_tim_to_login',\n",
    "                'Longer time in displaying graphics and photos (promotion, sales period)':'longer_tim_disp_graphics',\n",
    "                'Late declaration of price (promotion, sales period)':'late_declr_price',\n",
    "                'Longer page loading time (promotion, sales period)':'lon_page_load_tim',\n",
    "                'Limited mode of payment on most products (promotion, sales period)':'limtd_mode_pay',\n",
    "                'Longer delivery period':'lon_delvry_period',\n",
    "                'Change in website/Application design':'chnge_in_app_des',\n",
    "                'Frequent disruption when moving from one page to another':'disrupt_frm_pag_mov',\n",
    "                'Website is as efficient as before':'web_eff',\n",
    "                'Which of the Indian online retailer would you recommend to a friend?':'Recommend'},axis=1)"
   ]
  },
  {
   "cell_type": "code",
   "execution_count": 8,
   "metadata": {},
   "outputs": [
    {
     "data": {
      "text/html": [
       "<div>\n",
       "<style scoped>\n",
       "    .dataframe tbody tr th:only-of-type {\n",
       "        vertical-align: middle;\n",
       "    }\n",
       "\n",
       "    .dataframe tbody tr th {\n",
       "        vertical-align: top;\n",
       "    }\n",
       "\n",
       "    .dataframe thead th {\n",
       "        text-align: right;\n",
       "    }\n",
       "</style>\n",
       "<table border=\"1\" class=\"dataframe\">\n",
       "  <thead>\n",
       "    <tr style=\"text-align: right;\">\n",
       "      <th></th>\n",
       "      <th>Gender</th>\n",
       "      <th>Age</th>\n",
       "      <th>City</th>\n",
       "      <th>Pin code</th>\n",
       "      <th>Since_shop_on</th>\n",
       "      <th>online_pur_1yr</th>\n",
       "      <th>internet_access</th>\n",
       "      <th>Device</th>\n",
       "      <th>Screen_size</th>\n",
       "      <th>OS</th>\n",
       "      <th>...</th>\n",
       "      <th>longer_tim_to_login</th>\n",
       "      <th>longer_tim_disp_graphics</th>\n",
       "      <th>late_declr_price</th>\n",
       "      <th>lon_page_load_tim</th>\n",
       "      <th>limtd_mode_pay</th>\n",
       "      <th>lon_delvry_period</th>\n",
       "      <th>chnge_in_app_des</th>\n",
       "      <th>disrupt_frm_pag_mov</th>\n",
       "      <th>web_eff</th>\n",
       "      <th>Recommend</th>\n",
       "    </tr>\n",
       "  </thead>\n",
       "  <tbody>\n",
       "    <tr>\n",
       "      <th>0</th>\n",
       "      <td>Male</td>\n",
       "      <td>31-40 years</td>\n",
       "      <td>Delhi</td>\n",
       "      <td>110009</td>\n",
       "      <td>Above 4 years</td>\n",
       "      <td>31-40 times</td>\n",
       "      <td>Dial-up</td>\n",
       "      <td>Desktop</td>\n",
       "      <td>Others</td>\n",
       "      <td>Window/windows Mobile</td>\n",
       "      <td>...</td>\n",
       "      <td>Amazon.in</td>\n",
       "      <td>Amazon.in</td>\n",
       "      <td>Flipkart.com</td>\n",
       "      <td>Flipkart.com</td>\n",
       "      <td>Amazon.in</td>\n",
       "      <td>Paytm.com</td>\n",
       "      <td>Flipkart.com</td>\n",
       "      <td>Amazon.in</td>\n",
       "      <td>Amazon.in</td>\n",
       "      <td>Flipkart.com</td>\n",
       "    </tr>\n",
       "    <tr>\n",
       "      <th>1</th>\n",
       "      <td>Female</td>\n",
       "      <td>21-30 years</td>\n",
       "      <td>Delhi</td>\n",
       "      <td>110030</td>\n",
       "      <td>Above 4 years</td>\n",
       "      <td>41 times and above</td>\n",
       "      <td>Wi-Fi</td>\n",
       "      <td>Smartphone</td>\n",
       "      <td>4.7 inches</td>\n",
       "      <td>IOS/Mac</td>\n",
       "      <td>...</td>\n",
       "      <td>Amazon.in, Flipkart.com</td>\n",
       "      <td>Myntra.com</td>\n",
       "      <td>snapdeal.com</td>\n",
       "      <td>Snapdeal.com</td>\n",
       "      <td>Snapdeal.com</td>\n",
       "      <td>Snapdeal.com</td>\n",
       "      <td>Amazon.in</td>\n",
       "      <td>Myntra.com</td>\n",
       "      <td>Amazon.in, Flipkart.com</td>\n",
       "      <td>Amazon.in, Myntra.com</td>\n",
       "    </tr>\n",
       "    <tr>\n",
       "      <th>2</th>\n",
       "      <td>Female</td>\n",
       "      <td>21-30 years</td>\n",
       "      <td>Greater Noida</td>\n",
       "      <td>201308</td>\n",
       "      <td>3-4 years</td>\n",
       "      <td>41 times and above</td>\n",
       "      <td>Mobile Internet</td>\n",
       "      <td>Smartphone</td>\n",
       "      <td>5.5 inches</td>\n",
       "      <td>Android</td>\n",
       "      <td>...</td>\n",
       "      <td>Myntra.com</td>\n",
       "      <td>Myntra.com</td>\n",
       "      <td>Myntra.com</td>\n",
       "      <td>Myntra.com</td>\n",
       "      <td>Amazon.in</td>\n",
       "      <td>Paytm.com</td>\n",
       "      <td>Paytm.com</td>\n",
       "      <td>Paytm.com</td>\n",
       "      <td>Amazon.in</td>\n",
       "      <td>Amazon.in, Paytm.com, Myntra.com</td>\n",
       "    </tr>\n",
       "    <tr>\n",
       "      <th>3</th>\n",
       "      <td>Male</td>\n",
       "      <td>21-30 years</td>\n",
       "      <td>Karnal</td>\n",
       "      <td>132001</td>\n",
       "      <td>3-4 years</td>\n",
       "      <td>Less than 10 times</td>\n",
       "      <td>Mobile Internet</td>\n",
       "      <td>Smartphone</td>\n",
       "      <td>5.5 inches</td>\n",
       "      <td>IOS/Mac</td>\n",
       "      <td>...</td>\n",
       "      <td>Snapdeal.com</td>\n",
       "      <td>Myntra.com, Snapdeal.com</td>\n",
       "      <td>Myntra.com</td>\n",
       "      <td>Paytm.com</td>\n",
       "      <td>Paytm.com</td>\n",
       "      <td>Paytm.com</td>\n",
       "      <td>Amazon.in, Flipkart.com</td>\n",
       "      <td>Amazon.in, Flipkart.com</td>\n",
       "      <td>Amazon.in, Flipkart.com, Paytm.com</td>\n",
       "      <td>Amazon.in, Flipkart.com</td>\n",
       "    </tr>\n",
       "    <tr>\n",
       "      <th>4</th>\n",
       "      <td>Female</td>\n",
       "      <td>21-30 years</td>\n",
       "      <td>Bangalore</td>\n",
       "      <td>530068</td>\n",
       "      <td>2-3 years</td>\n",
       "      <td>11-20 times</td>\n",
       "      <td>Wi-Fi</td>\n",
       "      <td>Smartphone</td>\n",
       "      <td>4.7 inches</td>\n",
       "      <td>IOS/Mac</td>\n",
       "      <td>...</td>\n",
       "      <td>Flipkart.com, Paytm.com</td>\n",
       "      <td>Paytm.com</td>\n",
       "      <td>Paytm.com</td>\n",
       "      <td>Paytm.com</td>\n",
       "      <td>Snapdeal.com</td>\n",
       "      <td>Paytm.com</td>\n",
       "      <td>Amazon.in</td>\n",
       "      <td>Snapdeal.com</td>\n",
       "      <td>Paytm.com</td>\n",
       "      <td>Amazon.in, Myntra.com</td>\n",
       "    </tr>\n",
       "    <tr>\n",
       "      <th>...</th>\n",
       "      <td>...</td>\n",
       "      <td>...</td>\n",
       "      <td>...</td>\n",
       "      <td>...</td>\n",
       "      <td>...</td>\n",
       "      <td>...</td>\n",
       "      <td>...</td>\n",
       "      <td>...</td>\n",
       "      <td>...</td>\n",
       "      <td>...</td>\n",
       "      <td>...</td>\n",
       "      <td>...</td>\n",
       "      <td>...</td>\n",
       "      <td>...</td>\n",
       "      <td>...</td>\n",
       "      <td>...</td>\n",
       "      <td>...</td>\n",
       "      <td>...</td>\n",
       "      <td>...</td>\n",
       "      <td>...</td>\n",
       "      <td>...</td>\n",
       "    </tr>\n",
       "    <tr>\n",
       "      <th>264</th>\n",
       "      <td>Female</td>\n",
       "      <td>21-30 years</td>\n",
       "      <td>Solan</td>\n",
       "      <td>173212</td>\n",
       "      <td>1-2 years</td>\n",
       "      <td>Less than 10 times</td>\n",
       "      <td>Mobile Internet</td>\n",
       "      <td>Smartphone</td>\n",
       "      <td>5.5 inches</td>\n",
       "      <td>Android</td>\n",
       "      <td>...</td>\n",
       "      <td>Amazon.in</td>\n",
       "      <td>Amazon.in</td>\n",
       "      <td>Amazon.in</td>\n",
       "      <td>Amazon.in</td>\n",
       "      <td>Amazon.in</td>\n",
       "      <td>Amazon.in</td>\n",
       "      <td>Amazon.in</td>\n",
       "      <td>Amazon.in</td>\n",
       "      <td>Amazon.in</td>\n",
       "      <td>Amazon.in</td>\n",
       "    </tr>\n",
       "    <tr>\n",
       "      <th>265</th>\n",
       "      <td>Female</td>\n",
       "      <td>31-40 years</td>\n",
       "      <td>Ghaziabad</td>\n",
       "      <td>201008</td>\n",
       "      <td>1-2 years</td>\n",
       "      <td>31-40 times</td>\n",
       "      <td>Mobile Internet</td>\n",
       "      <td>Smartphone</td>\n",
       "      <td>Others</td>\n",
       "      <td>Android</td>\n",
       "      <td>...</td>\n",
       "      <td>Flipkart.com</td>\n",
       "      <td>Flipkart.com</td>\n",
       "      <td>Flipkart.com</td>\n",
       "      <td>Flipkart.com</td>\n",
       "      <td>Flipkart.com</td>\n",
       "      <td>Flipkart.com</td>\n",
       "      <td>Flipkart.com</td>\n",
       "      <td>Flipkart.com</td>\n",
       "      <td>Flipkart.com</td>\n",
       "      <td>Flipkart.com</td>\n",
       "    </tr>\n",
       "    <tr>\n",
       "      <th>266</th>\n",
       "      <td>Female</td>\n",
       "      <td>41-50 yaers</td>\n",
       "      <td>Bangalore</td>\n",
       "      <td>560010</td>\n",
       "      <td>2-3 years</td>\n",
       "      <td>Less than 10 times</td>\n",
       "      <td>Mobile internet</td>\n",
       "      <td>Laptop</td>\n",
       "      <td>Others</td>\n",
       "      <td>Window/windows Mobile</td>\n",
       "      <td>...</td>\n",
       "      <td>Amazon.in</td>\n",
       "      <td>Snapdeal.com</td>\n",
       "      <td>Amazon.in</td>\n",
       "      <td>Snapdeal.com</td>\n",
       "      <td>Snapdeal.com</td>\n",
       "      <td>Snapdeal.com</td>\n",
       "      <td>Snapdeal.com</td>\n",
       "      <td>Snapdeal.com</td>\n",
       "      <td>Amazon.in</td>\n",
       "      <td>Amazon.in</td>\n",
       "    </tr>\n",
       "    <tr>\n",
       "      <th>267</th>\n",
       "      <td>Female</td>\n",
       "      <td>Less than 20 years</td>\n",
       "      <td>Solan</td>\n",
       "      <td>173229</td>\n",
       "      <td>2-3 years</td>\n",
       "      <td>Less than 10 times</td>\n",
       "      <td>Wi-Fi</td>\n",
       "      <td>Smartphone</td>\n",
       "      <td>5.5 inches</td>\n",
       "      <td>Android</td>\n",
       "      <td>...</td>\n",
       "      <td>Amazon.in</td>\n",
       "      <td>Amazon.in, Myntra.com, Snapdeal.com</td>\n",
       "      <td>Amazon.in</td>\n",
       "      <td>Amazon.in, Snapdeal.com</td>\n",
       "      <td>Amazon.in</td>\n",
       "      <td>Amazon.in</td>\n",
       "      <td>Amazon.in</td>\n",
       "      <td>Myntra.com, Snapdeal.com</td>\n",
       "      <td>Myntra.com, Snapdeal.com</td>\n",
       "      <td>Amazon.in</td>\n",
       "    </tr>\n",
       "    <tr>\n",
       "      <th>268</th>\n",
       "      <td>Female</td>\n",
       "      <td>41-50 yaers</td>\n",
       "      <td>Ghaziabad</td>\n",
       "      <td>201009</td>\n",
       "      <td>2-3 years</td>\n",
       "      <td>31-40 times</td>\n",
       "      <td>Mobile Internet</td>\n",
       "      <td>Smartphone</td>\n",
       "      <td>5.5 inches</td>\n",
       "      <td>Android</td>\n",
       "      <td>...</td>\n",
       "      <td>Amazon.in</td>\n",
       "      <td>Amazon.in</td>\n",
       "      <td>Amazon.in</td>\n",
       "      <td>Amazon.in</td>\n",
       "      <td>Amazon.in</td>\n",
       "      <td>Amazon.in</td>\n",
       "      <td>Amazon.in</td>\n",
       "      <td>Amazon.in</td>\n",
       "      <td>Amazon.in</td>\n",
       "      <td>Amazon.in</td>\n",
       "    </tr>\n",
       "  </tbody>\n",
       "</table>\n",
       "<p>269 rows × 71 columns</p>\n",
       "</div>"
      ],
      "text/plain": [
       "     Gender                 Age           City  Pin code  Since_shop_on  \\\n",
       "0      Male         31-40 years          Delhi    110009  Above 4 years   \n",
       "1    Female         21-30 years          Delhi    110030  Above 4 years   \n",
       "2    Female         21-30 years  Greater Noida    201308      3-4 years   \n",
       "3      Male         21-30 years        Karnal     132001      3-4 years   \n",
       "4    Female         21-30 years     Bangalore     530068      2-3 years   \n",
       "..      ...                 ...            ...       ...            ...   \n",
       "264  Female         21-30 years          Solan    173212      1-2 years   \n",
       "265  Female         31-40 years      Ghaziabad    201008      1-2 years   \n",
       "266  Female         41-50 yaers     Bangalore     560010      2-3 years   \n",
       "267  Female  Less than 20 years          Solan    173229      2-3 years   \n",
       "268  Female         41-50 yaers      Ghaziabad    201009      2-3 years   \n",
       "\n",
       "         online_pur_1yr  internet_access      Device Screen_size  \\\n",
       "0           31-40 times          Dial-up     Desktop      Others   \n",
       "1    41 times and above            Wi-Fi  Smartphone  4.7 inches   \n",
       "2    41 times and above  Mobile Internet  Smartphone  5.5 inches   \n",
       "3    Less than 10 times  Mobile Internet  Smartphone  5.5 inches   \n",
       "4           11-20 times            Wi-Fi  Smartphone  4.7 inches   \n",
       "..                  ...              ...         ...         ...   \n",
       "264  Less than 10 times  Mobile Internet  Smartphone  5.5 inches   \n",
       "265         31-40 times  Mobile Internet  Smartphone      Others   \n",
       "266  Less than 10 times  Mobile internet      Laptop      Others   \n",
       "267  Less than 10 times            Wi-Fi  Smartphone  5.5 inches   \n",
       "268         31-40 times  Mobile Internet  Smartphone  5.5 inches   \n",
       "\n",
       "                        OS  ...      longer_tim_to_login  \\\n",
       "0    Window/windows Mobile  ...                Amazon.in   \n",
       "1                  IOS/Mac  ...  Amazon.in, Flipkart.com   \n",
       "2                  Android  ...               Myntra.com   \n",
       "3                  IOS/Mac  ...             Snapdeal.com   \n",
       "4                  IOS/Mac  ...  Flipkart.com, Paytm.com   \n",
       "..                     ...  ...                      ...   \n",
       "264                Android  ...                Amazon.in   \n",
       "265                Android  ...             Flipkart.com   \n",
       "266  Window/windows Mobile  ...                Amazon.in   \n",
       "267                Android  ...                Amazon.in   \n",
       "268                Android  ...                Amazon.in   \n",
       "\n",
       "                longer_tim_disp_graphics late_declr_price  \\\n",
       "0                              Amazon.in     Flipkart.com   \n",
       "1                             Myntra.com     snapdeal.com   \n",
       "2                             Myntra.com       Myntra.com   \n",
       "3               Myntra.com, Snapdeal.com       Myntra.com   \n",
       "4                              Paytm.com        Paytm.com   \n",
       "..                                   ...              ...   \n",
       "264                            Amazon.in        Amazon.in   \n",
       "265                         Flipkart.com     Flipkart.com   \n",
       "266                         Snapdeal.com        Amazon.in   \n",
       "267  Amazon.in, Myntra.com, Snapdeal.com        Amazon.in   \n",
       "268                            Amazon.in        Amazon.in   \n",
       "\n",
       "           lon_page_load_tim limtd_mode_pay lon_delvry_period  \\\n",
       "0               Flipkart.com      Amazon.in         Paytm.com   \n",
       "1               Snapdeal.com   Snapdeal.com      Snapdeal.com   \n",
       "2                 Myntra.com      Amazon.in         Paytm.com   \n",
       "3                  Paytm.com      Paytm.com         Paytm.com   \n",
       "4                  Paytm.com   Snapdeal.com         Paytm.com   \n",
       "..                       ...            ...               ...   \n",
       "264                Amazon.in      Amazon.in         Amazon.in   \n",
       "265             Flipkart.com   Flipkart.com      Flipkart.com   \n",
       "266             Snapdeal.com   Snapdeal.com      Snapdeal.com   \n",
       "267  Amazon.in, Snapdeal.com      Amazon.in         Amazon.in   \n",
       "268                Amazon.in      Amazon.in         Amazon.in   \n",
       "\n",
       "            chnge_in_app_des       disrupt_frm_pag_mov  \\\n",
       "0               Flipkart.com                 Amazon.in   \n",
       "1                  Amazon.in                Myntra.com   \n",
       "2                  Paytm.com                 Paytm.com   \n",
       "3    Amazon.in, Flipkart.com   Amazon.in, Flipkart.com   \n",
       "4                  Amazon.in              Snapdeal.com   \n",
       "..                       ...                       ...   \n",
       "264                Amazon.in                 Amazon.in   \n",
       "265             Flipkart.com              Flipkart.com   \n",
       "266             Snapdeal.com              Snapdeal.com   \n",
       "267                Amazon.in  Myntra.com, Snapdeal.com   \n",
       "268                Amazon.in                 Amazon.in   \n",
       "\n",
       "                                web_eff                         Recommend  \n",
       "0                             Amazon.in                      Flipkart.com  \n",
       "1               Amazon.in, Flipkart.com             Amazon.in, Myntra.com  \n",
       "2                             Amazon.in  Amazon.in, Paytm.com, Myntra.com  \n",
       "3    Amazon.in, Flipkart.com, Paytm.com           Amazon.in, Flipkart.com  \n",
       "4                             Paytm.com             Amazon.in, Myntra.com  \n",
       "..                                  ...                               ...  \n",
       "264                           Amazon.in                         Amazon.in  \n",
       "265                        Flipkart.com                      Flipkart.com  \n",
       "266                           Amazon.in                         Amazon.in  \n",
       "267            Myntra.com, Snapdeal.com                         Amazon.in  \n",
       "268                           Amazon.in                         Amazon.in  \n",
       "\n",
       "[269 rows x 71 columns]"
      ]
     },
     "execution_count": 8,
     "metadata": {},
     "output_type": "execute_result"
    }
   ],
   "source": [
    "df2"
   ]
  },
  {
   "cell_type": "markdown",
   "metadata": {},
   "source": [
    "Let's check if data consists null values."
   ]
  },
  {
   "cell_type": "code",
   "execution_count": 9,
   "metadata": {},
   "outputs": [
    {
     "data": {
      "text/plain": [
       "Gender                 0\n",
       "Age                    0\n",
       "City                   0\n",
       "Pin code               0\n",
       "Since_shop_on          0\n",
       "                      ..\n",
       "lon_delvry_period      0\n",
       "chnge_in_app_des       0\n",
       "disrupt_frm_pag_mov    0\n",
       "web_eff                0\n",
       "Recommend              0\n",
       "Length: 71, dtype: int64"
      ]
     },
     "execution_count": 9,
     "metadata": {},
     "output_type": "execute_result"
    }
   ],
   "source": [
    "df2.isnull().sum()"
   ]
  },
  {
   "cell_type": "markdown",
   "metadata": {},
   "source": [
    "There are no null values."
   ]
  },
  {
   "cell_type": "code",
   "execution_count": 10,
   "metadata": {},
   "outputs": [
    {
     "data": {
      "text/plain": [
       "(269, 71)"
      ]
     },
     "execution_count": 10,
     "metadata": {},
     "output_type": "execute_result"
    }
   ],
   "source": [
    "df2.shape"
   ]
  },
  {
   "cell_type": "code",
   "execution_count": 56,
   "metadata": {},
   "outputs": [
    {
     "data": {
      "text/plain": [
       "166"
      ]
     },
     "execution_count": 56,
     "metadata": {},
     "output_type": "execute_result"
    }
   ],
   "source": [
    "df2.duplicated().sum(),"
   ]
  },
  {
   "cell_type": "markdown",
   "metadata": {},
   "source": [
    "We can see that 166 rows are duplicated and needs to be removed"
   ]
  },
  {
   "cell_type": "code",
   "execution_count": 61,
   "metadata": {},
   "outputs": [],
   "source": [
    "df2=df2.drop_duplicates()"
   ]
  },
  {
   "cell_type": "code",
   "execution_count": null,
   "metadata": {},
   "outputs": [],
   "source": []
  },
  {
   "cell_type": "markdown",
   "metadata": {},
   "source": [
    "### VISUALIZATION"
   ]
  },
  {
   "cell_type": "code",
   "execution_count": 62,
   "metadata": {},
   "outputs": [
    {
     "data": {
      "text/plain": [
       "Female    66\n",
       "Male      37\n",
       "Name: Gender, dtype: int64"
      ]
     },
     "execution_count": 62,
     "metadata": {},
     "output_type": "execute_result"
    },
    {
     "data": {
      "image/png": "[encoded data removed]",
      "text/plain": [
       "<Figure size 432x360 with 1 Axes>"
      ]
     },
     "metadata": {
      "needs_background": "light"
     },
     "output_type": "display_data"
    }
   ],
   "source": [
    "#countplot for gender column\n",
    "plt.figure(figsize = (6,5))\n",
    "sns.countplot(df2['Gender'])\n",
    "plt.xlabel('Gender')\n",
    "plt.ylabel('Count')\n",
    "df2.Gender.value_counts()"
   ]
  },
  {
   "cell_type": "markdown",
   "metadata": {},
   "source": [
    "**We can see that in total of 269 people, 66 are female and 37 are male i.e. women shop online as twice as men.**"
   ]
  },
  {
   "cell_type": "code",
   "execution_count": 63,
   "metadata": {},
   "outputs": [
    {
     "data": {
      "text/plain": [
       "(array([0, 1, 2, 3, 4]), <a list of 5 Text major ticklabel objects>)"
      ]
     },
     "execution_count": 63,
     "metadata": {},
     "output_type": "execute_result"
    },
    {
     "data": {
      "image/png": "[encoded data removed]",
      "text/plain": [
       "<Figure size 432x360 with 1 Axes>"
      ]
     },
     "metadata": {
      "needs_background": "light"
     },
     "output_type": "display_data"
    }
   ],
   "source": [
    "# Lets check the age group of people who shop online\n",
    "plt.figure(figsize = (6,5))\n",
    "sns.countplot(df2['Age'])\n",
    "plt.xticks(rotation=90)\n"
   ]
  },
  {
   "cell_type": "code",
   "execution_count": 13,
   "metadata": {},
   "outputs": [],
   "source": [
    "df3=df.rename({'1Gender of respondent' : 'Gender','2 How old are you? ' : 'Age','3 Which city do you shop online from?': 'City',\n",
    "                '4 What is the Pin Code of where you shop online from?' : 'Pin code','5 Since How Long You are Shopping Online ?': 'Since_shop_on',\n",
    "                '6 How many times you have made an online purchase in the past 1 year?': 'online_pur_1yr',\n",
    "                '7 How do you access the internet while shopping on-line?' : 'internet_access',\n",
    "                '8 Which device do you use to access the online shopping?': 'Device',\n",
    "                '9 What is the screen size of your mobile device?\\t\\t\\t\\t\\t\\t                                        ': 'Screen_size',\n",
    "                '10 What is the operating system (OS) of your device?\\t\\t\\t\\t                                          ':'OS',\n",
    "                '11 What browser do you run on your device to access the website?\\t\\t\\t                                                          ': 'Browser',\n",
    "                '12 Which channel did you follow to arrive at your favorite online store for the first time?                                                                   ': 'Chnl_to_website',\n",
    "                 '13 After first visit, how do you reach the online retail store?\\t\\t\\t\\t                                                   ':'reach_store',\n",
    "                '14 How much time do you explore the e- retail store before making a purchase decision?                                                                   ':'time_spent_bfore_deci',\n",
    "                '15 What is your preferred payment Option?\\t\\t\\t\\t\\t                                                                                                                               ': 'Payment_opt',\n",
    "                '16 How frequently do you abandon (selecting an items and leaving without making payment) your shopping cart?\\t\\t\\t\\t\\t\\t\\t                                                   ': 'leave_witout_payin',\n",
    "                '17 Why did you abandon the “Bag”, “Shopping Cart”?\\t\\t\\t\\t\\t                                                                                                                                                       ':'abondon_reason',\n",
    "                '18 The content on the website must be easy to read and understand': 'cont_easy_toread',\n",
    "                '19 Information on similar product to the one highlighted  is important for product comparison': 'Info_simi_prod',\n",
    "                '20 Complete information on listed seller and product being offered is important for purchase decision.': 'Com_seller_info',\n",
    "                '21 All relevant information on listed products must be stated clearly':'relevant_prod_info',\n",
    "                '22 Ease of navigation in website':'ease_nav',\n",
    "                '23 Loading and processing speed': 'proc_speed',\n",
    "                '24 User friendly Interface of the website':'Usr_frnd_interface',\n",
    "                '25 Convenient Payment methods': 'payin_method',\n",
    "                '26 Trust that the online retail store will fulfill its part of the transaction at the stipulated time':'Trust_on_transac',\n",
    "                '27 Empathy (readiness to assist with queries) towards the customers': 'empathy_assist_queries',\n",
    "                '28 Being able to guarantee the privacy of the customer': 'Guar_cust_privacy',\n",
    "                '29 Responsiveness, availability of several communication channels (email, online rep, twitter, phone etc.)':'Response_sev_com',\n",
    "                '30 Online shopping gives monetary benefit and discounts':'ben_dis_shpon',\n",
    "                '31 Enjoyment is derived from shopping online': 'Enjy_shop',\n",
    "                '32 Shopping online is convenient and flexible':'Conv_flexi',\n",
    "                '33 Return and replacement policy of the e-tailer is important for purchase decision': 'replace_policy_imp',\n",
    "                '34 Gaining access to loyalty programs is a benefit of shopping online': 'gain_acc_loyal_prog',\n",
    "                '35 Displaying quality Information on the website improves satisfaction of customers':'display_qual_info_sat',\n",
    "                '36 User derive satisfaction while shopping on a good quality website or application':'Usr_driv_sat_app',\n",
    "                '37 Net Benefit derived from shopping online can lead to users satisfaction':'Net_benf_on_usrsat',\n",
    "                '38 User satisfaction cannot exist without trust' : 'Usr_sat_ntexst_trst',\n",
    "                '39 Offering a wide variety of listed product in several category':'Off_widvar_prod',\n",
    "                '40 Provision of complete and relevant product information':'Prov_prod_info',\n",
    "                '41 Monetary savings': 'Money_savings',\n",
    "                '42 The Convenience of patronizing the online retailer':'con_pat_retlr',\n",
    "                '43 Shopping on the website gives you the sense of adventure':'sense_adven_shopon',\n",
    "                '44 Shopping on your preferred e-tailer enhances your social status':'enhSoc_shop_estore',\n",
    "                '45 You feel gratification shopping on your favorite e-tailer': 'gratif_shop_etailor',\n",
    "                '46 Shopping on the website helps you fulfill certain roles':'fullfill_roles',\n",
    "                '47 Getting value for money spent':'worth_of_money',\n",
    "                'From the following, tick any (or all) of the online retailers you have shopped from;                                                                           ':'onlin_reatl_shp_frm',\n",
    "                'Easy to use website or application':'easy_use_app',\n",
    "                'Visual appealing web-page layout':'visual_web_layout',\n",
    "                'Wild variety of product on offer':'variety_prod_off',\n",
    "                'Complete, relevant description information of products':'desc_info_prods',\n",
    "                'Fast loading website speed of website and application':'fast_loading',\n",
    "                'Reliability of the website or application':'reliab_website',\n",
    "                'Quickness to complete purchase':'Quick_comp',\n",
    "                'Availability of several payment options':'Avail_pay_opt',\n",
    "                'Speedy order delivery ':'speed_odr_del',\n",
    "                'Privacy of customers’ information': 'privacy_cust_info',\n",
    "                'Security of customer financial information':'security_cust_fin_info',\n",
    "                'Perceived Trustworthiness':'perceived_trust',\n",
    "                'Presence of online assistance through multi-channel':'presnce_onlin_assist',\n",
    "                'Longer time to get logged in (promotion, sales period)':'longer_tim_to_login',\n",
    "                'Longer time in displaying graphics and photos (promotion, sales period)':'longer_tim_disp_graphics',\n",
    "                'Late declaration of price (promotion, sales period)':'late_declr_price',\n",
    "                'Longer page loading time (promotion, sales period)':'lon_page_load_tim',\n",
    "                'Limited mode of payment on most products (promotion, sales period)':'limtd_mode_pay',\n",
    "                'Longer delivery period':'lon_delvry_period',\n",
    "                'Change in website/Application design':'chnge_in_app_des',\n",
    "                'Frequent disruption when moving from one page to another':'disrupt_frm_pag_mov',\n",
    "                'Website is as efficient as before':'web_eff',\n",
    "                'Which of the Indian online retailer would you recommend to a friend?':'Recommend'},axis=1)"
   ]
  },
  {
   "cell_type": "code",
   "execution_count": 14,
   "metadata": {},
   "outputs": [
    {
     "data": {
      "text/html": [
       "<div>\n",
       "<style scoped>\n",
       "    .dataframe tbody tr th:only-of-type {\n",
       "        vertical-align: middle;\n",
       "    }\n",
       "\n",
       "    .dataframe tbody tr th {\n",
       "        vertical-align: top;\n",
       "    }\n",
       "\n",
       "    .dataframe thead th {\n",
       "        text-align: right;\n",
       "    }\n",
       "</style>\n",
       "<table border=\"1\" class=\"dataframe\">\n",
       "  <thead>\n",
       "    <tr style=\"text-align: right;\">\n",
       "      <th></th>\n",
       "      <th>Gender</th>\n",
       "      <th>Age</th>\n",
       "      <th>City</th>\n",
       "      <th>Pin code</th>\n",
       "      <th>Since_shop_on</th>\n",
       "      <th>online_pur_1yr</th>\n",
       "      <th>internet_access</th>\n",
       "      <th>Device</th>\n",
       "      <th>Screen_size</th>\n",
       "      <th>OS</th>\n",
       "      <th>...</th>\n",
       "      <th>longer_tim_to_login</th>\n",
       "      <th>longer_tim_disp_graphics</th>\n",
       "      <th>late_declr_price</th>\n",
       "      <th>lon_page_load_tim</th>\n",
       "      <th>limtd_mode_pay</th>\n",
       "      <th>lon_delvry_period</th>\n",
       "      <th>chnge_in_app_des</th>\n",
       "      <th>disrupt_frm_pag_mov</th>\n",
       "      <th>web_eff</th>\n",
       "      <th>Recommend</th>\n",
       "    </tr>\n",
       "  </thead>\n",
       "  <tbody>\n",
       "    <tr>\n",
       "      <th>0</th>\n",
       "      <td>0</td>\n",
       "      <td>3</td>\n",
       "      <td>Delhi</td>\n",
       "      <td>110009</td>\n",
       "      <td>5</td>\n",
       "      <td>4</td>\n",
       "      <td>4</td>\n",
       "      <td>3</td>\n",
       "      <td>5</td>\n",
       "      <td>1</td>\n",
       "      <td>...</td>\n",
       "      <td>Amazon.in</td>\n",
       "      <td>Amazon.in</td>\n",
       "      <td>Flipkart.com</td>\n",
       "      <td>Flipkart.com</td>\n",
       "      <td>Amazon.in</td>\n",
       "      <td>Paytm.com</td>\n",
       "      <td>Flipkart.com</td>\n",
       "      <td>Amazon.in</td>\n",
       "      <td>Amazon.in</td>\n",
       "      <td>Flipkart.com</td>\n",
       "    </tr>\n",
       "    <tr>\n",
       "      <th>1</th>\n",
       "      <td>1</td>\n",
       "      <td>2</td>\n",
       "      <td>Delhi</td>\n",
       "      <td>110030</td>\n",
       "      <td>5</td>\n",
       "      <td>5</td>\n",
       "      <td>2</td>\n",
       "      <td>1</td>\n",
       "      <td>2</td>\n",
       "      <td>3</td>\n",
       "      <td>...</td>\n",
       "      <td>Amazon.in, Flipkart.com</td>\n",
       "      <td>Myntra.com</td>\n",
       "      <td>snapdeal.com</td>\n",
       "      <td>Snapdeal.com</td>\n",
       "      <td>Snapdeal.com</td>\n",
       "      <td>Snapdeal.com</td>\n",
       "      <td>Amazon.in</td>\n",
       "      <td>Myntra.com</td>\n",
       "      <td>Amazon.in, Flipkart.com</td>\n",
       "      <td>Amazon.in, Myntra.com</td>\n",
       "    </tr>\n",
       "    <tr>\n",
       "      <th>2</th>\n",
       "      <td>1</td>\n",
       "      <td>2</td>\n",
       "      <td>Greater Noida</td>\n",
       "      <td>201308</td>\n",
       "      <td>4</td>\n",
       "      <td>5</td>\n",
       "      <td>3</td>\n",
       "      <td>1</td>\n",
       "      <td>4</td>\n",
       "      <td>2</td>\n",
       "      <td>...</td>\n",
       "      <td>Myntra.com</td>\n",
       "      <td>Myntra.com</td>\n",
       "      <td>Myntra.com</td>\n",
       "      <td>Myntra.com</td>\n",
       "      <td>Amazon.in</td>\n",
       "      <td>Paytm.com</td>\n",
       "      <td>Paytm.com</td>\n",
       "      <td>Paytm.com</td>\n",
       "      <td>Amazon.in</td>\n",
       "      <td>Amazon.in, Paytm.com, Myntra.com</td>\n",
       "    </tr>\n",
       "    <tr>\n",
       "      <th>3</th>\n",
       "      <td>0</td>\n",
       "      <td>2</td>\n",
       "      <td>Karnal</td>\n",
       "      <td>132001</td>\n",
       "      <td>4</td>\n",
       "      <td>1</td>\n",
       "      <td>3</td>\n",
       "      <td>1</td>\n",
       "      <td>4</td>\n",
       "      <td>3</td>\n",
       "      <td>...</td>\n",
       "      <td>Snapdeal.com</td>\n",
       "      <td>Myntra.com, Snapdeal.com</td>\n",
       "      <td>Myntra.com</td>\n",
       "      <td>Paytm.com</td>\n",
       "      <td>Paytm.com</td>\n",
       "      <td>Paytm.com</td>\n",
       "      <td>Amazon.in, Flipkart.com</td>\n",
       "      <td>Amazon.in, Flipkart.com</td>\n",
       "      <td>Amazon.in, Flipkart.com, Paytm.com</td>\n",
       "      <td>Amazon.in, Flipkart.com</td>\n",
       "    </tr>\n",
       "    <tr>\n",
       "      <th>4</th>\n",
       "      <td>1</td>\n",
       "      <td>2</td>\n",
       "      <td>Bangalore</td>\n",
       "      <td>530068</td>\n",
       "      <td>3</td>\n",
       "      <td>2</td>\n",
       "      <td>2</td>\n",
       "      <td>1</td>\n",
       "      <td>2</td>\n",
       "      <td>3</td>\n",
       "      <td>...</td>\n",
       "      <td>Flipkart.com, Paytm.com</td>\n",
       "      <td>Paytm.com</td>\n",
       "      <td>Paytm.com</td>\n",
       "      <td>Paytm.com</td>\n",
       "      <td>Snapdeal.com</td>\n",
       "      <td>Paytm.com</td>\n",
       "      <td>Amazon.in</td>\n",
       "      <td>Snapdeal.com</td>\n",
       "      <td>Paytm.com</td>\n",
       "      <td>Amazon.in, Myntra.com</td>\n",
       "    </tr>\n",
       "  </tbody>\n",
       "</table>\n",
       "<p>5 rows × 71 columns</p>\n",
       "</div>"
      ],
      "text/plain": [
       "   Gender  Age           City  Pin code  Since_shop_on  online_pur_1yr  \\\n",
       "0       0    3          Delhi    110009              5               4   \n",
       "1       1    2          Delhi    110030              5               5   \n",
       "2       1    2  Greater Noida    201308              4               5   \n",
       "3       0    2        Karnal     132001              4               1   \n",
       "4       1    2     Bangalore     530068              3               2   \n",
       "\n",
       "   internet_access  Device  Screen_size  OS  ...      longer_tim_to_login  \\\n",
       "0                4       3            5   1  ...                Amazon.in   \n",
       "1                2       1            2   3  ...  Amazon.in, Flipkart.com   \n",
       "2                3       1            4   2  ...               Myntra.com   \n",
       "3                3       1            4   3  ...             Snapdeal.com   \n",
       "4                2       1            2   3  ...  Flipkart.com, Paytm.com   \n",
       "\n",
       "   longer_tim_disp_graphics  late_declr_price  lon_page_load_tim  \\\n",
       "0                 Amazon.in      Flipkart.com       Flipkart.com   \n",
       "1                Myntra.com      snapdeal.com       Snapdeal.com   \n",
       "2                Myntra.com        Myntra.com         Myntra.com   \n",
       "3  Myntra.com, Snapdeal.com        Myntra.com          Paytm.com   \n",
       "4                 Paytm.com         Paytm.com          Paytm.com   \n",
       "\n",
       "   limtd_mode_pay  lon_delvry_period         chnge_in_app_des  \\\n",
       "0       Amazon.in          Paytm.com             Flipkart.com   \n",
       "1    Snapdeal.com       Snapdeal.com                Amazon.in   \n",
       "2       Amazon.in          Paytm.com                Paytm.com   \n",
       "3       Paytm.com          Paytm.com  Amazon.in, Flipkart.com   \n",
       "4    Snapdeal.com          Paytm.com                Amazon.in   \n",
       "\n",
       "       disrupt_frm_pag_mov                             web_eff  \\\n",
       "0                Amazon.in                           Amazon.in   \n",
       "1               Myntra.com             Amazon.in, Flipkart.com   \n",
       "2                Paytm.com                           Amazon.in   \n",
       "3  Amazon.in, Flipkart.com  Amazon.in, Flipkart.com, Paytm.com   \n",
       "4             Snapdeal.com                           Paytm.com   \n",
       "\n",
       "                          Recommend  \n",
       "0                      Flipkart.com  \n",
       "1             Amazon.in, Myntra.com  \n",
       "2  Amazon.in, Paytm.com, Myntra.com  \n",
       "3           Amazon.in, Flipkart.com  \n",
       "4             Amazon.in, Myntra.com  \n",
       "\n",
       "[5 rows x 71 columns]"
      ]
     },
     "execution_count": 14,
     "metadata": {},
     "output_type": "execute_result"
    }
   ],
   "source": [
    "df3.head()"
   ]
  },
  {
   "cell_type": "code",
   "execution_count": 64,
   "metadata": {},
   "outputs": [],
   "source": [
    "df3=df3.drop_duplicates()"
   ]
  },
  {
   "cell_type": "code",
   "execution_count": 65,
   "metadata": {},
   "outputs": [
    {
     "data": {
      "text/plain": [
       "(array([ 0,  1,  2,  3,  4,  5,  6,  7,  8,  9, 10]),\n",
       " <a list of 11 Text major ticklabel objects>)"
      ]
     },
     "execution_count": 65,
     "metadata": {},
     "output_type": "execute_result"
    },
    {
     "data": {
      "image/png": "[encoded data removed]",
      "text/plain": [
       "<Figure size 432x360 with 1 Axes>"
      ]
     },
     "metadata": {
      "needs_background": "light"
     },
     "output_type": "display_data"
    }
   ],
   "source": [
    "# Lets check the city of people who shop online\n",
    "plt.figure(figsize = (6,5))\n",
    "sns.countplot(df2['City'])\n",
    "plt.xticks(rotation=90)"
   ]
  },
  {
   "cell_type": "markdown",
   "metadata": {},
   "source": [
    "1. We can see that people from delhi shop online more.\n",
    "2. Comparatively same amount of people shop online at Bangalore,Greater Noida and Noida.\n",
    "3. Less people shop online in Bulandshahr and Moradabad"
   ]
  },
  {
   "cell_type": "markdown",
   "metadata": {},
   "source": [
    " Let's drop unnessecary columns"
   ]
  },
  {
   "cell_type": "code",
   "execution_count": 66,
   "metadata": {},
   "outputs": [
    {
     "data": {
      "text/plain": [
       "Index(['Gender', 'Age', 'City', 'Pin code', 'Since_shop_on', 'online_pur_1yr',\n",
       "       'internet_access', 'Device', 'Screen_size', 'OS', 'Browser',\n",
       "       'Chnl_to_website', 'reach_store', 'time_spent_bfore_deci',\n",
       "       'Payment_opt', 'leave_witout_payin', 'abondon_reason',\n",
       "       'cont_easy_toread', 'Info_simi_prod', 'Com_seller_info',\n",
       "       'relevant_prod_info', 'ease_nav', 'proc_speed', 'Usr_frnd_interface',\n",
       "       'payin_method', 'Trust_on_transac', 'empathy_assist_queries',\n",
       "       'Guar_cust_privacy', 'Response_sev_com', 'ben_dis_shpon', 'Enjy_shop',\n",
       "       'Conv_flexi', 'replace_policy_imp', 'gain_acc_loyal_prog',\n",
       "       'display_qual_info_sat', 'Usr_driv_sat_app', 'Net_benf_on_usrsat',\n",
       "       'Usr_sat_ntexst_trst', 'Off_widvar_prod', 'Prov_prod_info',\n",
       "       'Money_savings', 'con_pat_retlr', 'sense_adven_shopon',\n",
       "       'enhSoc_shop_estore', 'gratif_shop_etailor', 'fullfill_roles',\n",
       "       'worth_of_money', 'onlin_reatl_shp_frm', 'easy_use_app',\n",
       "       'visual_web_layout', 'variety_prod_off', 'desc_info_prods',\n",
       "       'fast_loading', 'reliab_website', 'Quick_comp', 'Avail_pay_opt',\n",
       "       'speed_odr_del', 'privacy_cust_info', 'security_cust_fin_info',\n",
       "       'perceived_trust', 'presnce_onlin_assist', 'longer_tim_to_login',\n",
       "       'longer_tim_disp_graphics', 'late_declr_price', 'lon_page_load_tim',\n",
       "       'limtd_mode_pay', 'lon_delvry_period', 'chnge_in_app_des',\n",
       "       'disrupt_frm_pag_mov', 'web_eff', 'Recommend'],\n",
       "      dtype='object')"
      ]
     },
     "execution_count": 66,
     "metadata": {},
     "output_type": "execute_result"
    }
   ],
   "source": [
    "df2.columns"
   ]
  },
  {
   "cell_type": "code",
   "execution_count": 67,
   "metadata": {},
   "outputs": [
    {
     "data": {
      "text/plain": [
       "(array([0, 1, 2, 3, 4]), <a list of 5 Text major ticklabel objects>)"
      ]
     },
     "execution_count": 67,
     "metadata": {},
     "output_type": "execute_result"
    },
    {
     "data": {
      "image/png": "[encoded data removed]",
      "text/plain": [
       "<Figure size 432x360 with 1 Axes>"
      ]
     },
     "metadata": {
      "needs_background": "light"
     },
     "output_type": "display_data"
    }
   ],
   "source": [
    "plt.figure(figsize = (6,5))\n",
    "sns.countplot(df2['Since_shop_on'])\n",
    "plt.xticks(rotation=90)"
   ]
  },
  {
   "cell_type": "markdown",
   "metadata": {},
   "source": [
    "We can observe that there are approx 35 people who shope online for more than 4 years.\n"
   ]
  },
  {
   "cell_type": "code",
   "execution_count": 68,
   "metadata": {},
   "outputs": [
    {
     "data": {
      "text/plain": [
       "(array([0, 1, 2, 3, 4, 5]), <a list of 6 Text major ticklabel objects>)"
      ]
     },
     "execution_count": 68,
     "metadata": {},
     "output_type": "execute_result"
    },
    {
     "data": {
      "image/png": "[encoded data removed]",
      "text/plain": [
       "<Figure size 432x360 with 1 Axes>"
      ]
     },
     "metadata": {
      "needs_background": "light"
     },
     "output_type": "display_data"
    }
   ],
   "source": [
    "plt.figure(figsize = (6,5))\n",
    "sns.countplot(df2['online_pur_1yr'])\n",
    "plt.xticks(rotation=90)"
   ]
  },
  {
   "cell_type": "markdown",
   "metadata": {},
   "source": [
    "More than 35 people have shopped online less than 10 times online and very less people around 10 shop online more than 40 times."
   ]
  },
  {
   "cell_type": "code",
   "execution_count": 69,
   "metadata": {},
   "outputs": [
    {
     "data": {
      "text/plain": [
       "(array([0, 1, 2, 3]), <a list of 4 Text major ticklabel objects>)"
      ]
     },
     "execution_count": 69,
     "metadata": {},
     "output_type": "execute_result"
    },
    {
     "data": {
      "image/png": "[encoded data removed]",
      "text/plain": [
       "<Figure size 432x360 with 1 Axes>"
      ]
     },
     "metadata": {
      "needs_background": "light"
     },
     "output_type": "display_data"
    }
   ],
   "source": [
    "plt.figure(figsize = (6,5))\n",
    "sns.countplot(df2['Screen_size'])\n",
    "plt.xticks(rotation=90)"
   ]
  },
  {
   "cell_type": "markdown",
   "metadata": {},
   "source": [
    "More than 50 people use devices with screen size other than 4.7 ,5.5 and 5 inches.\n",
    "Around 35 people use devices with screen size 5.5 inches."
   ]
  },
  {
   "cell_type": "code",
   "execution_count": 70,
   "metadata": {},
   "outputs": [
    {
     "data": {
      "text/plain": [
       "(array([0, 1, 2, 3, 4]), <a list of 5 Text major ticklabel objects>)"
      ]
     },
     "execution_count": 70,
     "metadata": {},
     "output_type": "execute_result"
    },
    {
     "data": {
      "image/png": "[encoded data removed]",
      "text/plain": [
       "<Figure size 432x360 with 1 Axes>"
      ]
     },
     "metadata": {
      "needs_background": "light"
     },
     "output_type": "display_data"
    }
   ],
   "source": [
    "plt.figure(figsize = (6,5))\n",
    "sns.countplot(df2['abondon_reason'])\n",
    "plt.xticks(rotation=90)"
   ]
  },
  {
   "cell_type": "markdown",
   "metadata": {},
   "source": [
    "We can observe that the main reason people abandon the product is because they find better alternative offer."
   ]
  },
  {
   "cell_type": "code",
   "execution_count": 71,
   "metadata": {},
   "outputs": [
    {
     "data": {
      "text/plain": [
       "(array([0, 1, 2]), <a list of 3 Text major ticklabel objects>)"
      ]
     },
     "execution_count": 71,
     "metadata": {},
     "output_type": "execute_result"
    },
    {
     "data": {
      "image/png": "[encoded data removed]",
      "text/plain": [
       "<Figure size 432x360 with 1 Axes>"
      ]
     },
     "metadata": {
      "needs_background": "light"
     },
     "output_type": "display_data"
    }
   ],
   "source": [
    "plt.figure(figsize = (6,5))\n",
    "sns.countplot(df2['worth_of_money'])\n",
    "plt.xticks(rotation=90)"
   ]
  },
  {
   "cell_type": "markdown",
   "metadata": {},
   "source": [
    "Most of the people agree it is worth the money spent for their purchase online."
   ]
  },
  {
   "cell_type": "code",
   "execution_count": 72,
   "metadata": {},
   "outputs": [
    {
     "data": {
      "text/plain": [
       "(array([ 0,  1,  2,  3,  4,  5,  6,  7,  8,  9, 10]),\n",
       " <a list of 11 Text major ticklabel objects>)"
      ]
     },
     "execution_count": 72,
     "metadata": {},
     "output_type": "execute_result"
    },
    {
     "data": {
      "image/png": "[encoded data removed]",
      "text/plain": [
       "<Figure size 432x360 with 1 Axes>"
      ]
     },
     "metadata": {
      "needs_background": "light"
     },
     "output_type": "display_data"
    }
   ],
   "source": [
    "plt.figure(figsize = (6,5))\n",
    "sns.countplot(df2['lon_page_load_tim'])\n",
    "plt.xticks(rotation=90)"
   ]
  },
  {
   "cell_type": "markdown",
   "metadata": {},
   "source": [
    "We can observe that around 60 people experience long page load time in myntra and paytm."
   ]
  },
  {
   "cell_type": "code",
   "execution_count": 73,
   "metadata": {},
   "outputs": [
    {
     "data": {
      "text/plain": [
       "(array([0, 1, 2, 3, 4, 5]), <a list of 6 Text major ticklabel objects>)"
      ]
     },
     "execution_count": 73,
     "metadata": {},
     "output_type": "execute_result"
    },
    {
     "data": {
      "image/png": "[encoded data removed]",
      "text/plain": [
       "<Figure size 432x360 with 1 Axes>"
      ]
     },
     "metadata": {
      "needs_background": "light"
     },
     "output_type": "display_data"
    }
   ],
   "source": [
    "plt.figure(figsize = (6,5))\n",
    "sns.countplot(df2['lon_delvry_period'])\n",
    "plt.xticks(rotation=90)"
   ]
  },
  {
   "cell_type": "markdown",
   "metadata": {},
   "source": [
    "Paytm and Snapdeal takes more time to deliver their products comparatively."
   ]
  },
  {
   "cell_type": "code",
   "execution_count": 74,
   "metadata": {},
   "outputs": [
    {
     "data": {
      "text/plain": [
       "(array([0, 1, 2, 3, 4, 5, 6, 7, 8, 9]),\n",
       " <a list of 10 Text major ticklabel objects>)"
      ]
     },
     "execution_count": 74,
     "metadata": {},
     "output_type": "execute_result"
    },
    {
     "data": {
      "image/png": "[encoded data removed]",
      "text/plain": [
       "<Figure size 432x360 with 1 Axes>"
      ]
     },
     "metadata": {
      "needs_background": "light"
     },
     "output_type": "display_data"
    }
   ],
   "source": [
    "plt.figure(figsize = (6,5))\n",
    "sns.countplot(df2['longer_tim_to_login'])\n",
    "plt.xticks(rotation=90)"
   ]
  },
  {
   "cell_type": "markdown",
   "metadata": {},
   "source": [
    "1. It takes longer time to login to Amazon due to various reasons and most common reason would be the load on server during sale period.\n",
    "2. Myntra and paytm takes time to load the page as seen in previous plot"
   ]
  },
  {
   "cell_type": "code",
   "execution_count": 75,
   "metadata": {},
   "outputs": [
    {
     "data": {
      "text/plain": [
       "(array([0, 1, 2, 3, 4, 5, 6, 7]), <a list of 8 Text major ticklabel objects>)"
      ]
     },
     "execution_count": 75,
     "metadata": {},
     "output_type": "execute_result"
    },
    {
     "data": {
      "image/png": "[encoded data removed]",
      "text/plain": [
       "<Figure size 432x360 with 1 Axes>"
      ]
     },
     "metadata": {
      "needs_background": "light"
     },
     "output_type": "display_data"
    }
   ],
   "source": [
    "plt.figure(figsize = (6,5))\n",
    "sns.countplot(df2['Recommend'])\n",
    "plt.xticks(rotation=90)"
   ]
  },
  {
   "cell_type": "markdown",
   "metadata": {},
   "source": [
    "Most of the people recommend shopping in Amazon.in and both Amazon and flipkart altogether."
   ]
  },
  {
   "cell_type": "code",
   "execution_count": 76,
   "metadata": {},
   "outputs": [
    {
     "data": {
      "text/plain": [
       "([0, 1, 2, 3, 4, 5, 6, 7, 8, 9, 10],\n",
       " <a list of 11 Text major ticklabel objects>)"
      ]
     },
     "execution_count": 76,
     "metadata": {},
     "output_type": "execute_result"
    },
    {
     "data": {
      "image/png": "[encoded data removed]",
      "text/plain": [
       "<Figure size 432x360 with 1 Axes>"
      ]
     },
     "metadata": {
      "needs_background": "light"
     },
     "output_type": "display_data"
    }
   ],
   "source": [
    "plt.figure(figsize = (6,5))\n",
    "sns.scatterplot(x=df2['City'],y=df2['Recommend'],hue=df2['Gender'])\n",
    "plt.xticks(rotation=90)"
   ]
  },
  {
   "cell_type": "markdown",
   "metadata": {},
   "source": [
    "We can observe that\n",
    "1. People from all the cities shop from Amazon.in\n",
    "2. Women shop more than men in Bangalore and Greater Noida."
   ]
  },
  {
   "cell_type": "code",
   "execution_count": 77,
   "metadata": {},
   "outputs": [
    {
     "data": {
      "text/plain": [
       "(array([0, 1, 2, 3, 4]), <a list of 5 Text major ticklabel objects>)"
      ]
     },
     "execution_count": 77,
     "metadata": {},
     "output_type": "execute_result"
    },
    {
     "data": {
      "image/png": "[encoded data removed]",
      "text/plain": [
       "<Figure size 432x360 with 1 Axes>"
      ]
     },
     "metadata": {
      "needs_background": "light"
     },
     "output_type": "display_data"
    }
   ],
   "source": [
    "plt.figure(figsize = (6,5))\n",
    "sns.barplot(x=df3['Since_shop_on'],y=df3['online_pur_1yr'])\n",
    "plt.xticks(rotation=90)"
   ]
  },
  {
   "cell_type": "markdown",
   "metadata": {},
   "source": [
    "We can observe that people who are shopping since more than 4 years,purchase online more than 40 times a year"
   ]
  },
  {
   "cell_type": "code",
   "execution_count": 78,
   "metadata": {},
   "outputs": [
    {
     "data": {
      "text/plain": [
       "Index(['Gender', 'Age', 'City', 'Pin code', 'Since_shop_on', 'online_pur_1yr',\n",
       "       'internet_access', 'Device', 'Screen_size', 'OS', 'Browser',\n",
       "       'Chnl_to_website', 'reach_store', 'time_spent_bfore_deci',\n",
       "       'Payment_opt', 'leave_witout_payin', 'abondon_reason',\n",
       "       'cont_easy_toread', 'Info_simi_prod', 'Com_seller_info',\n",
       "       'relevant_prod_info', 'ease_nav', 'proc_speed', 'Usr_frnd_interface',\n",
       "       'payin_method', 'Trust_on_transac', 'empathy_assist_queries',\n",
       "       'Guar_cust_privacy', 'Response_sev_com', 'ben_dis_shpon', 'Enjy_shop',\n",
       "       'Conv_flexi', 'replace_policy_imp', 'gain_acc_loyal_prog',\n",
       "       'display_qual_info_sat', 'Usr_driv_sat_app', 'Net_benf_on_usrsat',\n",
       "       'Usr_sat_ntexst_trst', 'Off_widvar_prod', 'Prov_prod_info',\n",
       "       'Money_savings', 'con_pat_retlr', 'sense_adven_shopon',\n",
       "       'enhSoc_shop_estore', 'gratif_shop_etailor', 'fullfill_roles',\n",
       "       'worth_of_money', 'onlin_reatl_shp_frm', 'easy_use_app',\n",
       "       'visual_web_layout', 'variety_prod_off', 'desc_info_prods',\n",
       "       'fast_loading', 'reliab_website', 'Quick_comp', 'Avail_pay_opt',\n",
       "       'speed_odr_del', 'privacy_cust_info', 'security_cust_fin_info',\n",
       "       'perceived_trust', 'presnce_onlin_assist', 'longer_tim_to_login',\n",
       "       'longer_tim_disp_graphics', 'late_declr_price', 'lon_page_load_tim',\n",
       "       'limtd_mode_pay', 'lon_delvry_period', 'chnge_in_app_des',\n",
       "       'disrupt_frm_pag_mov', 'web_eff', 'Recommend'],\n",
       "      dtype='object')"
      ]
     },
     "execution_count": 78,
     "metadata": {},
     "output_type": "execute_result"
    }
   ],
   "source": [
    "df2.columns"
   ]
  },
  {
   "cell_type": "code",
   "execution_count": 80,
   "metadata": {},
   "outputs": [],
   "source": []
  },
  {
   "cell_type": "code",
   "execution_count": 88,
   "metadata": {},
   "outputs": [],
   "source": []
  },
  {
   "cell_type": "code",
   "execution_count": null,
   "metadata": {},
   "outputs": [],
   "source": []
  }
 ],
 "metadata": {
  "kernelspec": {
   "display_name": "Python 3",
   "language": "python",
   "name": "python3"
  },
  "language_info": {
   "codemirror_mode": {
    "name": "ipython",
    "version": 3
   },
   "file_extension": ".py",
   "mimetype": "text/x-python",
   "name": "python",
   "nbconvert_exporter": "python",
   "pygments_lexer": "ipython3",
   "version": "3.8.3"
  }
 },
 "nbformat": 4,
 "nbformat_minor": 4
}
